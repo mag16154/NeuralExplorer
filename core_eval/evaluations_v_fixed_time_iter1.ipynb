{
 "cells": [
  {
   "cell_type": "code",
   "execution_count": 1,
   "metadata": {},
   "outputs": [
    {
     "name": "stderr",
     "output_type": "stream",
     "text": [
      "Using TensorFlow backend.\n"
     ]
    },
    {
     "name": "stdout",
     "output_type": "stream",
     "text": [
      "dest [4.61435376 0.31351877]\n",
      "WARNING:tensorflow:From /usr/local/lib/python3.6/dist-packages/keras/backend/tensorflow_backend.py:422: The name tf.global_variables is deprecated. Please use tf.compat.v1.global_variables instead.\n",
      "\n",
      "Avg new dist 0.1230248454080832 rel dist 0.21842436539775145 for n_states 500\n",
      "Time taken: 6.05733323097229\n",
      "dest [3.31684384 0.42479944]\n",
      "Avg new dist 0.15243368973829377 rel dist 0.3773251890661478 for n_states 500\n",
      "Time taken: 5.452564477920532\n",
      "dest [1.6912735  0.77239701]\n",
      "Avg new dist 0.17776588076628416 rel dist 0.17718172073963684 for n_states 500\n",
      "Time taken: 4.726390838623047\n",
      "dest [3.34823415 0.42121086]\n",
      "Avg new dist 0.14826677350830528 rel dist 0.3974675831683076 for n_states 500\n",
      "Time taken: 5.659623384475708\n",
      "dest [1.95820947 0.66874857]\n",
      "Avg new dist 0.17543444007479703 rel dist 0.2393417225416656 for n_states 500\n",
      "Time taken: 5.0635175704956055\n",
      "dest [1.56424202 2.38088117]\n",
      "Avg new dist 1.7804903417846114 rel dist 0.7879961184930927 for n_states 500\n",
      "Time taken: 5.60814094543457\n",
      "dest [0.61108346 2.10156191]\n",
      "Avg new dist 1.72616849638357 rel dist 0.684968622847544 for n_states 500\n",
      "Time taken: 5.302474021911621\n",
      "dest [3.52470531 0.40208673]\n",
      "Avg new dist 0.14568754017816263 rel dist 0.3864329964216391 for n_states 500\n",
      "Time taken: 6.1234917640686035\n",
      "dest [2.43696825 0.55681533]\n",
      "Avg new dist 0.12322830104155982 rel dist 0.24745694063384271 for n_states 500\n",
      "Time taken: 5.7317585945129395\n",
      "dest [5.37365879 0.2714934 ]\n",
      "Avg new dist 0.1490583602895525 rel dist 0.13692836323975136 for n_states 500\n",
      "Time taken: 7.1274168491363525\n",
      "time taken 5.68672251701355\n"
     ]
    }
   ],
   "source": [
    "import matplotlib\n",
    "%matplotlib inline\n",
    "import numpy as np\n",
    "import time\n",
    "\n",
    "from evaluation import Evaluation\n",
    "\n",
    "evalObject = Evaluation(dynamics='Brussellator')\n",
    "dataObject = evalObject.setDataObject()\n",
    "evalObject.setNStates(500)\n",
    "time_taken = 0.0\n",
    "for idx in range(10):\n",
    "    start = time.time()\n",
    "    ref_traj = dataObject.generateTrajectories(samples=1)[0]\n",
    "    time_step = 131\n",
    "\n",
    "    dest = ref_traj[time_step]\n",
    "    dests = [dest]\n",
    "    evalObject.reachDest(dests=dests, d_time_steps=[time_step], threshold=0.01, eval_first_step=True)\n",
    "    time_taken += time.time() - start\n",
    "print(\"time taken {}\".format(time_taken/10))"
   ]
  },
  {
   "cell_type": "code",
   "execution_count": 1,
   "metadata": {},
   "outputs": [
    {
     "name": "stderr",
     "output_type": "stream",
     "text": [
      "Using TensorFlow backend.\n"
     ]
    },
    {
     "name": "stdout",
     "output_type": "stream",
     "text": [
      "dest [0.3654912  0.19343089]\n",
      "WARNING:tensorflow:From /usr/local/lib/python3.6/dist-packages/keras/backend/tensorflow_backend.py:422: The name tf.global_variables is deprecated. Please use tf.compat.v1.global_variables instead.\n",
      "\n",
      "Avg new dist 0.16696257052208646 rel dist 0.4749269816465192 for n_states 500\n",
      "Time taken: 5.788093566894531\n",
      "dest [1.73553212 0.73562708]\n",
      "Avg new dist 0.15849252926399665 rel dist 0.1659399207737437 for n_states 500\n",
      "Time taken: 5.332786560058594\n",
      "dest [0.42717121 0.641405  ]\n",
      "Avg new dist 0.0780512633305493 rel dist 0.2520297040710276 for n_states 500\n",
      "Time taken: 5.924023628234863\n",
      "dest [1.10182958 0.47410671]\n",
      "Avg new dist 0.11797621117457094 rel dist 0.21780421762060992 for n_states 500\n",
      "Time taken: 5.871673583984375\n",
      "dest [0.55413641 1.45922611]\n"
     ]
    },
    {
     "name": "stderr",
     "output_type": "stream",
     "text": [
      "/usr/local/lib/python3.6/dist-packages/scipy/integrate/odepack.py:247: ODEintWarning: Excess work done on this call (perhaps wrong Dfun type). Run with full_output = 1 to get quantitative information.\n",
      "  warnings.warn(warning_msg, ODEintWarning)\n"
     ]
    },
    {
     "name": "stdout",
     "output_type": "stream",
     "text": [
      "Avg new dist 0.22451650472395965 rel dist 0.25034276350638884 for n_states 500\n",
      "Time taken: 6.239477872848511\n",
      "dest [0.14802815 0.47324688]\n",
      "Avg new dist 0.05327860950245802 rel dist 0.26924806869524553 for n_states 500\n",
      "Time taken: 6.84807014465332\n",
      "dest [0.23812855 0.24943554]\n",
      "Avg new dist 0.1323666946617291 rel dist 0.395838159281491 for n_states 500\n",
      "Time taken: 6.622699737548828\n",
      "dest [1.27748713 0.71975617]\n",
      "Avg new dist 0.14473823160657892 rel dist 0.21867243074363146 for n_states 500\n",
      "Time taken: 6.21364951133728\n",
      "dest [0.77136296 0.38545618]\n",
      "Avg new dist 0.09000855640782743 rel dist 0.21228022289181728 for n_states 500\n",
      "Time taken: 6.55276346206665\n",
      "dest [1.11962939 0.43656571]\n",
      "Avg new dist 0.1366752268486104 rel dist 0.23771444034500935 for n_states 500\n",
      "Time taken: 6.50337553024292\n",
      "time taken 6.191349697113037\n"
     ]
    }
   ],
   "source": [
    "import matplotlib\n",
    "%matplotlib inline\n",
    "import numpy as np\n",
    "import time\n",
    "\n",
    "from evaluation import Evaluation\n",
    "\n",
    "evalObject = Evaluation(dynamics='Lotka')\n",
    "dataObject = evalObject.setDataObject()\n",
    "evalObject.setNStates(500)\n",
    "\n",
    "time_taken = 0.0\n",
    "for idx in range(10):\n",
    "    start = time.time()\n",
    "    ref_traj = dataObject.generateTrajectories(samples=1)[0]\n",
    "    time_step = 131\n",
    "\n",
    "    dest = ref_traj[time_step]\n",
    "    dests = [dest]\n",
    "    evalObject.reachDest(dests=dests, d_time_steps=[time_step], threshold=0.01, eval_first_step=True)\n",
    "    time_taken += time.time() - start\n",
    "print(\"time taken {}\".format(time_taken/10))"
   ]
  },
  {
   "cell_type": "code",
   "execution_count": 1,
   "metadata": {},
   "outputs": [
    {
     "name": "stderr",
     "output_type": "stream",
     "text": [
      "Using TensorFlow backend.\n"
     ]
    },
    {
     "name": "stdout",
     "output_type": "stream",
     "text": [
      "dest [ 0.13608825 -3.44775048]\n",
      "WARNING:tensorflow:From /usr/local/lib/python3.6/dist-packages/keras/backend/tensorflow_backend.py:422: The name tf.global_variables is deprecated. Please use tf.compat.v1.global_variables instead.\n",
      "\n",
      "Avg new dist 0.03266121777081464 rel dist 0.18886156071214366 for n_states 500\n",
      "Time taken: 7.614703416824341\n",
      "dest [-0.88104198 -3.90003385]\n",
      "Avg new dist 0.10588269622592099 rel dist 0.1732192491957239 for n_states 500\n",
      "Time taken: 7.341244459152222\n",
      "dest [ 0.22884981 -3.35697328]\n",
      "Avg new dist 0.021504346773909003 rel dist 0.21311792538900884 for n_states 500\n",
      "Time taken: 7.734330177307129\n",
      "dest [ 0.41000932 -2.78095084]\n",
      "Avg new dist 0.3208438762288691 rel dist 0.5097075242013228 for n_states 500\n",
      "Time taken: 7.42910361289978\n",
      "dest [-0.87886188 -3.92965076]\n",
      "Avg new dist 0.10539727666406738 rel dist 0.1832748598439957 for n_states 500\n",
      "Time taken: 7.933084726333618\n",
      "dest [ 0.66789988 -2.38417543]\n",
      "Avg new dist 0.16976642616060628 rel dist 0.16972134948119963 for n_states 500\n",
      "Time taken: 8.207917928695679\n",
      "dest [ 0.68196932 -2.30844843]\n",
      "Avg new dist 0.19931200127063553 rel dist 0.17851870571731596 for n_states 500\n",
      "Time taken: 7.950384855270386\n",
      "dest [ 0.02022219 -3.55793873]\n",
      "Avg new dist 0.04989057105770235 rel dist 0.1792540124407541 for n_states 500\n",
      "Time taken: 8.639055967330933\n",
      "dest [ 0.45834055 -2.94303165]\n",
      "Avg new dist 0.16218347547626513 rel dist 0.3226238861766199 for n_states 500\n",
      "Time taken: 8.274719715118408\n",
      "dest [-0.82263942 -3.93979693]\n",
      "Avg new dist 0.1227395405797207 rel dist 0.20067025127891358 for n_states 500\n",
      "Time taken: 8.654518842697144\n",
      "time taken 7.980183839797974\n"
     ]
    }
   ],
   "source": [
    "import matplotlib\n",
    "%matplotlib inline\n",
    "import numpy as np\n",
    "import time\n",
    "\n",
    "from evaluation import Evaluation\n",
    "\n",
    "evalObject = Evaluation(dynamics='Jetengine')\n",
    "dataObject = evalObject.setDataObject()\n",
    "evalObject.setNStates(500)\n",
    "\n",
    "time_taken = 0.0\n",
    "for idx in range(10):\n",
    "    start = time.time()\n",
    "    ref_traj = dataObject.generateTrajectories(samples=1)[0]\n",
    "    time_step = 131\n",
    "\n",
    "    dest = ref_traj[time_step]\n",
    "    dests = [dest]\n",
    "    evalObject.reachDest(dests=dests, d_time_steps=[time_step], threshold=0.01, eval_first_step=True)\n",
    "    time_taken += time.time() - start\n",
    "print(\"time taken {}\".format(time_taken/10))"
   ]
  },
  {
   "cell_type": "code",
   "execution_count": 1,
   "metadata": {},
   "outputs": [
    {
     "name": "stderr",
     "output_type": "stream",
     "text": [
      "Using TensorFlow backend.\n"
     ]
    },
    {
     "name": "stdout",
     "output_type": "stream",
     "text": [
      "dest [ 2.04630135 -0.52690036]\n",
      "WARNING:tensorflow:From /usr/local/lib/python3.6/dist-packages/keras/backend/tensorflow_backend.py:422: The name tf.global_variables is deprecated. Please use tf.compat.v1.global_variables instead.\n",
      "\n",
      "Avg new dist 0.21748974294487264 rel dist 0.19245670107455828 for n_states 500\n",
      "Time taken: 6.125085830688477\n",
      "dest [ 6.51303878 -0.15714932]\n",
      "Avg new dist 0.27181807158136184 rel dist 0.2290733727066078 for n_states 500\n",
      "Time taken: 5.815749168395996\n",
      "dest [ 9.44680492 -0.10704145]\n",
      "Avg new dist 0.3008482460913778 rel dist 0.2000315926281895 for n_states 500\n",
      "Time taken: 4.860966205596924\n",
      "dest [ 7.45217753 -0.13660204]\n",
      "Avg new dist 0.31413354750894523 rel dist 0.25623645892706537 for n_states 500\n",
      "Time taken: 5.372961521148682\n",
      "dest [ 8.95885003 -0.11301132]\n",
      "Avg new dist 0.2999196073935246 rel dist 0.20314106727125436 for n_states 500\n",
      "Time taken: 5.0988991260528564\n",
      "dest [ 7.03742452 -0.14496179]\n",
      "Avg new dist 0.2716799181304082 rel dist 0.2459337401804409 for n_states 500\n",
      "Time taken: 5.4870030879974365\n",
      "dest [ 2.64236087 -0.42655874]\n",
      "Avg new dist 0.09984346902147546 rel dist 0.15607662910687597 for n_states 500\n",
      "Time taken: 6.999730825424194\n",
      "dest [ 5.7011003  -0.18077999]\n",
      "Avg new dist 0.28757161417959215 rel dist 0.2263947322682418 for n_states 500\n",
      "Time taken: 7.737665891647339\n",
      "dest [ 6.20250887 -0.1654041 ]\n",
      "Avg new dist 0.24174055979213302 rel dist 0.21416620693415522 for n_states 500\n",
      "Time taken: 7.274468898773193\n",
      "dest [ 2.0012675  -0.58689398]\n",
      "Avg new dist 0.20086516631143028 rel dist 0.20659085354035325 for n_states 500\n",
      "Time taken: 6.93842339515686\n",
      "time taken 6.172754454612732\n"
     ]
    }
   ],
   "source": [
    "import matplotlib\n",
    "%matplotlib inline\n",
    "import numpy as np\n",
    "import time\n",
    "\n",
    "from evaluation import Evaluation\n",
    "\n",
    "evalObject = Evaluation(dynamics='Vanderpol')\n",
    "dataObject = evalObject.setDataObject()\n",
    "evalObject.setNStates(500)\n",
    "\n",
    "time_taken = 0.0\n",
    "for idx in range(10):\n",
    "    start = time.time()\n",
    "    ref_traj = dataObject.generateTrajectories(samples=1)[0]\n",
    "    time_step = 131\n",
    "\n",
    "    dest = ref_traj[time_step]\n",
    "    dests = [dest]\n",
    "    evalObject.reachDest(dests=dests, d_time_steps=[time_step], threshold=0.01, eval_first_step=True)\n",
    "    time_taken += time.time() - start\n",
    "print(\"time taken {}\".format(time_taken/10))"
   ]
  },
  {
   "cell_type": "code",
   "execution_count": 1,
   "metadata": {},
   "outputs": [
    {
     "name": "stderr",
     "output_type": "stream",
     "text": [
      "Using TensorFlow backend.\n"
     ]
    },
    {
     "name": "stdout",
     "output_type": "stream",
     "text": [
      "dest [ 6.52277446 27.71852834]\n",
      "WARNING:tensorflow:From /usr/local/lib/python3.6/dist-packages/keras/backend/tensorflow_backend.py:422: The name tf.global_variables is deprecated. Please use tf.compat.v1.global_variables instead.\n",
      "\n",
      "Avg new dist 0.07731325541201452 rel dist 0.34189217212785694 for n_states 500\n",
      "Time taken: 7.719785928726196\n",
      "dest [ 6.93791016 27.75441328]\n",
      "Avg new dist 0.12388416417867418 rel dist 0.3277811686750562 for n_states 500\n",
      "Time taken: 7.905250549316406\n",
      "dest [ 6.17675826 27.75732534]\n",
      "Avg new dist 0.03501299040242246 rel dist 0.21897850034630678 for n_states 500\n",
      "Time taken: 8.314958810806274\n",
      "dest [ 6.4576199  27.78679607]\n",
      "Avg new dist 0.035824417414674486 rel dist 0.19215817574067884 for n_states 500\n",
      "Time taken: 8.354937553405762\n",
      "dest [ 6.59133659 28.02868513]\n",
      "Avg new dist 0.03950689041800908 rel dist 0.1842252444630586 for n_states 500\n",
      "Time taken: 9.401727199554443\n",
      "dest [ 6.53908894 27.82831065]\n",
      "Avg new dist 0.03698703845458113 rel dist 0.18006975217203006 for n_states 500\n",
      "Time taken: 8.439007759094238\n",
      "dest [ 6.38885952 27.90007146]\n",
      "Avg new dist 0.03259040547983177 rel dist 0.26363932201292894 for n_states 500\n",
      "Time taken: 8.87212347984314\n",
      "dest [ 6.4923699  27.87851325]\n",
      "Avg new dist 0.02688905746692833 rel dist 0.1593881817088706 for n_states 500\n",
      "Time taken: 8.695390462875366\n",
      "dest [ 6.51816152 27.94644002]\n",
      "Avg new dist 0.02811244845866685 rel dist 0.16562044476293727 for n_states 500\n",
      "Time taken: 9.076855421066284\n",
      "dest [ 6.03423632 27.73054486]\n",
      "Avg new dist 0.0800364118023592 rel dist 0.3200242379019385 for n_states 500\n",
      "Time taken: 9.122291564941406\n",
      "time taken 8.592674160003662\n"
     ]
    }
   ],
   "source": [
    "import matplotlib\n",
    "%matplotlib inline\n",
    "import numpy as np\n",
    "import time\n",
    "\n",
    "from evaluation import Evaluation\n",
    "\n",
    "evalObject = Evaluation(dynamics='Lacoperon')\n",
    "dataObject = evalObject.setDataObject()\n",
    "evalObject.setNStates(500)\n",
    "\n",
    "time_taken = 0.0\n",
    "for idx in range(10):\n",
    "    start = time.time()\n",
    "    ref_traj = dataObject.generateTrajectories(samples=1)[0]\n",
    "    time_step = 131\n",
    "\n",
    "    dest = ref_traj[time_step]\n",
    "    dests = [dest]\n",
    "    evalObject.reachDest(dests=dests, d_time_steps=[time_step], threshold=0.01, eval_first_step=True)\n",
    "    time_taken += time.time() - start\n",
    "print(\"time taken {}\".format(time_taken/10))"
   ]
  },
  {
   "cell_type": "code",
   "execution_count": 1,
   "metadata": {},
   "outputs": [
    {
     "name": "stderr",
     "output_type": "stream",
     "text": [
      "Using TensorFlow backend.\n"
     ]
    },
    {
     "name": "stdout",
     "output_type": "stream",
     "text": [
      "dest [ 1.3916563  -7.77687727]\n",
      "WARNING:tensorflow:From /usr/local/lib/python3.6/dist-packages/keras/backend/tensorflow_backend.py:422: The name tf.global_variables is deprecated. Please use tf.compat.v1.global_variables instead.\n",
      "\n"
     ]
    },
    {
     "name": "stderr",
     "output_type": "stream",
     "text": [
      "/usr/local/lib/python3.6/dist-packages/scipy/integrate/odepack.py:247: ODEintWarning: Excess work done on this call (perhaps wrong Dfun type). Run with full_output = 1 to get quantitative information.\n",
      "  warnings.warn(warning_msg, ODEintWarning)\n"
     ]
    },
    {
     "name": "stdout",
     "output_type": "stream",
     "text": [
      "Avg new dist 0.49537116687648436 rel dist 0.1808497846433636 for n_states 500\n",
      "Time taken: 7.995243787765503\n",
      "dest [ -0.80667027 -11.04561645]\n",
      "Avg new dist 0.5347187712203026 rel dist 0.20698436315877916 for n_states 500\n",
      "Time taken: 7.9039130210876465\n",
      "dest [-2.06366735 -7.37030313]\n",
      "Avg new dist 0.26064024286763116 rel dist 0.1264302241390791 for n_states 500\n",
      "Time taken: 8.242529153823853\n",
      "dest [ 1.52323201 -9.60550036]\n",
      "Avg new dist 0.38302990772690604 rel dist 0.12009962698431473 for n_states 500\n",
      "Time taken: 8.43696904182434\n",
      "dest [ 0.67853733 -4.14566449]\n",
      "Avg new dist 0.36491897457786227 rel dist 0.12318324124604758 for n_states 500\n",
      "Time taken: 8.401385068893433\n",
      "dest [ 0.02452568 -1.34731153]\n",
      "Avg new dist 2.9537990115213923 rel dist 0.6240002548847691 for n_states 500\n",
      "Time taken: 8.217771291732788\n",
      "dest [ 0.31186133 -5.97403783]\n",
      "Avg new dist 0.3319319132721236 rel dist 0.12992095987979496 for n_states 500\n",
      "Time taken: 8.601783752441406\n",
      "dest [ 2.69500231 -5.5429294 ]\n",
      "Avg new dist 0.5875202645533197 rel dist 0.1947990467683466 for n_states 500\n",
      "Time taken: 8.370628595352173\n",
      "dest [ -1.62038    -10.37733083]\n",
      "Avg new dist 0.5958114963947434 rel dist 0.24759980906195259 for n_states 500\n",
      "Time taken: 8.579655170440674\n",
      "dest [-0.14921106 -3.92428225]\n",
      "Avg new dist 0.2900967861477396 rel dist 0.10833721192696252 for n_states 500\n",
      "Time taken: 8.739025831222534\n",
      "time taken 8.351366591453552\n"
     ]
    }
   ],
   "source": [
    "import matplotlib\n",
    "%matplotlib inline\n",
    "import numpy as np\n",
    "import time\n",
    "\n",
    "from evaluation import Evaluation\n",
    "\n",
    "evalObject = Evaluation(dynamics='HybridLinearOscillator')\n",
    "dataObject = evalObject.setDataObject()\n",
    "evalObject.setNStates(500)\n",
    "\n",
    "time_taken = 0.0\n",
    "for idx in range(10):\n",
    "    start = time.time()\n",
    "    ref_traj = dataObject.generateTrajectories(samples=1)[0]\n",
    "    time_step = 131\n",
    "\n",
    "    dest = ref_traj[time_step]\n",
    "    dests = [dest]\n",
    "    evalObject.reachDest(dests=dests, d_time_steps=[time_step], threshold=0.01, eval_first_step=True)\n",
    "    time_taken += time.time() - start\n",
    "print(\"time taken {}\".format(time_taken/10))"
   ]
  },
  {
   "cell_type": "code",
   "execution_count": 1,
   "metadata": {},
   "outputs": [
    {
     "name": "stderr",
     "output_type": "stream",
     "text": [
      "Using TensorFlow backend.\n"
     ]
    },
    {
     "name": "stdout",
     "output_type": "stream",
     "text": [
      "dest [ -1.14206494 -12.17444299]\n",
      "WARNING:tensorflow:From /usr/local/lib/python3.6/dist-packages/keras/backend/tensorflow_backend.py:422: The name tf.global_variables is deprecated. Please use tf.compat.v1.global_variables instead.\n",
      "\n"
     ]
    },
    {
     "name": "stderr",
     "output_type": "stream",
     "text": [
      "/usr/local/lib/python3.6/dist-packages/scipy/integrate/odepack.py:247: ODEintWarning: Excess work done on this call (perhaps wrong Dfun type). Run with full_output = 1 to get quantitative information.\n",
      "  warnings.warn(warning_msg, ODEintWarning)\n"
     ]
    },
    {
     "name": "stdout",
     "output_type": "stream",
     "text": [
      "Avg new dist 1.3076532295461278 rel dist 0.4407920531274944 for n_states 500\n",
      "Time taken: 28.443485736846924\n",
      "dest [-2.48071648 -8.29479388]\n",
      "Avg new dist 0.49310388430889623 rel dist 0.19175205044269916 for n_states 500\n",
      "Time taken: 28.161606550216675\n",
      "dest [ 0.74066076 -0.72640174]\n",
      "Avg new dist 3.350975213428166 rel dist 0.613790495647687 for n_states 500\n",
      "Time taken: 25.547221183776855\n",
      "dest [  1.9864387  -10.03362048]\n",
      "Avg new dist 0.6579838883530708 rel dist 0.2089882803122319 for n_states 500\n",
      "Time taken: 29.131210565567017\n",
      "dest [-0.04016366 -7.8869741 ]\n",
      "Avg new dist 0.28506744395865685 rel dist 0.1429777536778224 for n_states 500\n",
      "Time taken: 28.499467611312866\n",
      "dest [-0.06443417 -3.3801792 ]\n",
      "Avg new dist 0.2850575873467343 rel dist 0.11429221501400577 for n_states 500\n",
      "Time taken: 22.122127771377563\n",
      "dest [-0.94431666 -4.32831508]\n",
      "Avg new dist 0.33707830118124277 rel dist 0.14330639767218079 for n_states 500\n",
      "Time taken: 22.92992091178894\n",
      "dest [ 0.15690809 -3.26728643]\n",
      "Avg new dist 0.35678204636707955 rel dist 0.13089582588497298 for n_states 500\n",
      "Time taken: 21.668753147125244\n",
      "dest [-1.52679574 -6.11947762]\n",
      "Avg new dist 0.4436900458415722 rel dist 0.21410818358098857 for n_states 500\n",
      "Time taken: 26.190117359161377\n",
      "dest [-0.43255379 -8.29724384]\n",
      "Avg new dist 0.3305999925019589 rel dist 0.1814325631202499 for n_states 500\n",
      "Time taken: 28.39984393119812\n",
      "time taken 26.11692581176758\n"
     ]
    }
   ],
   "source": [
    "import matplotlib\n",
    "%matplotlib inline\n",
    "import numpy as np\n",
    "import time\n",
    "\n",
    "from evaluation import Evaluation\n",
    "\n",
    "evalObject = Evaluation(dynamics='SmoothHybridLinearOscillator')\n",
    "dataObject = evalObject.setDataObject()\n",
    "evalObject.setNStates(500)\n",
    "\n",
    "time_taken = 0.0\n",
    "for idx in range(10):\n",
    "    start = time.time()\n",
    "    ref_traj = dataObject.generateTrajectories(samples=1)[0]\n",
    "    time_step = 131\n",
    "\n",
    "    dest = ref_traj[time_step]\n",
    "    dests = [dest]\n",
    "    evalObject.reachDest(dests=dests, d_time_steps=[time_step], threshold=0.01, eval_first_step=True)\n",
    "    time_taken += time.time() - start\n",
    "print(\"time taken {}\".format(time_taken/10))"
   ]
  },
  {
   "cell_type": "code",
   "execution_count": 1,
   "metadata": {},
   "outputs": [
    {
     "name": "stderr",
     "output_type": "stream",
     "text": [
      "Using TensorFlow backend.\n"
     ]
    },
    {
     "name": "stdout",
     "output_type": "stream",
     "text": [
      "dest [-7.51877244  2.46010701  0.01540767]\n",
      "WARNING:tensorflow:From /usr/local/lib/python3.6/dist-packages/keras/backend/tensorflow_backend.py:422: The name tf.global_variables is deprecated. Please use tf.compat.v1.global_variables instead.\n",
      "\n",
      "Avg new dist 2.0451471567466872 rel dist 0.3742558621956994 for n_states 500\n",
      "Time taken: 6.759260892868042\n",
      "dest [-6.10493562 -4.75583553  0.01647405]\n",
      "Avg new dist 0.761423851343391 rel dist 0.24767114236200058 for n_states 500\n",
      "Time taken: 7.287938356399536\n",
      "dest [-10.7881777   -5.85197679   0.01191211]\n",
      "Avg new dist 0.6574395422646189 rel dist 0.1951777716403724 for n_states 500\n",
      "Time taken: 8.403507709503174\n",
      "dest [-11.10974552  -7.75645484   0.01162134]\n",
      "Avg new dist 0.8669751568060629 rel dist 0.22527805402445156 for n_states 500\n",
      "Time taken: 9.01150631904602\n",
      "dest [-8.99757791 -1.19818654  0.01357249]\n",
      "Avg new dist 0.7507367148852451 rel dist 0.20076184009247805 for n_states 500\n",
      "Time taken: 7.802234888076782\n",
      "dest [-7.38943586  0.19132189  0.01534926]\n",
      "Avg new dist 0.7423531443458866 rel dist 0.19207503826293948 for n_states 500\n",
      "Time taken: 7.82404088973999\n",
      "dest [-5.63477832 -7.46995398  0.01682105]\n",
      "Avg new dist 0.8872320567579105 rel dist 0.22550699740472221 for n_states 500\n",
      "Time taken: 8.372752904891968\n",
      "dest [-8.1674687  -6.70886991  0.01400536]\n",
      "Avg new dist 0.8719706649372108 rel dist 0.2663741684507872 for n_states 500\n",
      "Time taken: 8.34455680847168\n",
      "dest [-7.55640283 -1.43550718  0.0150161 ]\n",
      "Avg new dist 0.8003928540369768 rel dist 0.25291084840089806 for n_states 500\n",
      "Time taken: 8.20781946182251\n",
      "dest [-5.28119551 -4.0145372   0.01772805]\n",
      "Avg new dist 0.7149558641787215 rel dist 0.22208644232045158 for n_states 500\n",
      "Time taken: 8.408733367919922\n",
      "time taken 8.044674515724182\n"
     ]
    }
   ],
   "source": [
    "import matplotlib\n",
    "%matplotlib inline\n",
    "import numpy as np\n",
    "import time\n",
    "\n",
    "from evaluation import Evaluation\n",
    "\n",
    "evalObject = Evaluation(dynamics='Roesseler')\n",
    "dataObject = evalObject.setDataObject()\n",
    "evalObject.setNStates(500)\n",
    "\n",
    "time_taken = 0.0\n",
    "for idx in range(10):\n",
    "    start = time.time()\n",
    "    ref_traj = dataObject.generateTrajectories(samples=1)[0]\n",
    "    time_step = 131\n",
    "\n",
    "    dest = ref_traj[time_step]\n",
    "    dests = [dest]\n",
    "    evalObject.reachDest(dests=dests, d_time_steps=[time_step], threshold=0.01, eval_first_step=True)\n",
    "    time_taken += time.time() - start\n",
    "print(\"time taken {}\".format(time_taken/10))"
   ]
  },
  {
   "cell_type": "code",
   "execution_count": 1,
   "metadata": {},
   "outputs": [
    {
     "name": "stderr",
     "output_type": "stream",
     "text": [
      "Using TensorFlow backend.\n"
     ]
    },
    {
     "name": "stdout",
     "output_type": "stream",
     "text": [
      "dest [ -7.29514915 -10.35209743  20.28916186]\n",
      "WARNING:tensorflow:From /usr/local/lib/python3.6/dist-packages/keras/backend/tensorflow_backend.py:422: The name tf.global_variables is deprecated. Please use tf.compat.v1.global_variables instead.\n",
      "\n",
      "Avg new dist 1.152627390854264 rel dist 0.3344553702644596 for n_states 500\n",
      "Time taken: 11.760946273803711\n",
      "dest [-3.62431336 -4.39992771 19.50279753]\n",
      "Avg new dist 2.0400828532616573 rel dist 0.43294499928473196 for n_states 500\n",
      "Time taken: 12.291240215301514\n",
      "dest [ -9.19692225 -10.08447196  26.71736292]\n",
      "Avg new dist 0.5403785845993375 rel dist 0.2263956023761544 for n_states 500\n",
      "Time taken: 10.833305358886719\n",
      "dest [-9.10933722 -9.95236065 26.66239377]\n",
      "Avg new dist 0.5436783047908044 rel dist 0.24602510997568192 for n_states 500\n",
      "Time taken: 11.035570859909058\n",
      "dest [-6.24552534 -8.55940071 20.08316053]\n",
      "Avg new dist 1.2717755411365277 rel dist 0.3702287579361442 for n_states 500\n",
      "Time taken: 12.499542951583862\n",
      "dest [ -9.26474753 -11.86929251  24.28725631]\n",
      "Avg new dist 0.98942494088592 rel dist 0.3748604735886253 for n_states 500\n",
      "Time taken: 12.316930294036865\n",
      "dest [-5.74918497 -8.25044713 18.76482912]\n",
      "Avg new dist 1.0701003380401395 rel dist 0.3260091171664028 for n_states 500\n",
      "Time taken: 13.07218623161316\n",
      "dest [-7.76098354 -9.3683882  23.70304198]\n",
      "Avg new dist 0.7428969207632148 rel dist 0.24832377527268182 for n_states 500\n",
      "Time taken: 12.177046298980713\n",
      "dest [-1.30353603 -1.54535089 16.96602296]\n",
      "Avg new dist 4.769891229544204 rel dist 0.5581254651820065 for n_states 500\n",
      "Time taken: 13.653544902801514\n",
      "dest [ -7.22247123 -10.65246293  19.33978978]\n",
      "Avg new dist 1.4499379090417337 rel dist 0.39865577752080084 for n_states 500\n",
      "Time taken: 13.922011137008667\n",
      "time taken 12.359926128387452\n"
     ]
    }
   ],
   "source": [
    "import matplotlib\n",
    "%matplotlib inline\n",
    "import numpy as np\n",
    "import time\n",
    "\n",
    "from evaluation import Evaluation\n",
    "\n",
    "evalObject = Evaluation(dynamics='Lorentz')\n",
    "dataObject = evalObject.setDataObject()\n",
    "evalObject.setNStates(500)\n",
    "\n",
    "time_taken = 0.0\n",
    "for idx in range(10):\n",
    "    start = time.time()\n",
    "    ref_traj = dataObject.generateTrajectories(samples=1)[0]\n",
    "    time_step = 131\n",
    "\n",
    "    dest = ref_traj[time_step]\n",
    "    dests = [dest]\n",
    "    evalObject.reachDest(dests=dests, d_time_steps=[time_step], threshold=0.01, eval_first_step=True)\n",
    "    time_taken += time.time() - start\n",
    "print(\"time taken {}\".format(time_taken/10))"
   ]
  },
  {
   "cell_type": "code",
   "execution_count": 1,
   "metadata": {},
   "outputs": [
    {
     "name": "stderr",
     "output_type": "stream",
     "text": [
      "Using TensorFlow backend.\n"
     ]
    },
    {
     "name": "stdout",
     "output_type": "stream",
     "text": [
      "dest [14.03737897  9.68598681  4.26884234]\n",
      "WARNING:tensorflow:From /usr/local/lib/python3.6/dist-packages/keras/backend/tensorflow_backend.py:422: The name tf.global_variables is deprecated. Please use tf.compat.v1.global_variables instead.\n",
      "\n",
      "Avg new dist 1.7449399191228772 rel dist 0.2976684762421892 for n_states 500\n",
      "Time taken: 16.627873182296753\n",
      "dest [16.74668693  8.47667049  1.05062847]\n",
      "Avg new dist 1.4378330098082561 rel dist 0.2458712016388749 for n_states 500\n",
      "Time taken: 15.288069009780884\n",
      "dest [15.88962465  5.07575076 -1.21098672]\n",
      "Avg new dist 2.146361333417064 rel dist 0.3076794618838273 for n_states 500\n",
      "Time taken: 14.572755336761475\n",
      "dest [16.24519805  8.49831475 -0.68343376]\n",
      "Avg new dist 1.8812081511934486 rel dist 0.2893338191325912 for n_states 500\n",
      "Time taken: 15.272450685501099\n",
      "dest [14.65609797  9.18218246 -0.12910449]\n",
      "Avg new dist 1.5025077774590854 rel dist 0.24762916409604382 for n_states 500\n",
      "Time taken: 15.64975905418396\n",
      "dest [6.90424187 3.39259384 5.77302486]\n",
      "Avg new dist 2.7369116537700275 rel dist 0.4823194407061586 for n_states 500\n",
      "Time taken: 16.44130516052246\n",
      "dest [15.74588281  7.09697427 -0.5871302 ]\n",
      "Avg new dist 1.6151171896089453 rel dist 0.24766593642540957 for n_states 500\n",
      "Time taken: 15.170052766799927\n",
      "dest [ 9.80685304 -1.88628211  5.81496056]\n",
      "Avg new dist 4.178905613087227 rel dist 0.5514938572770521 for n_states 500\n",
      "Time taken: 16.82644248008728\n",
      "dest [11.83869227  1.93551071  1.61218112]\n",
      "Avg new dist 1.9134402421493257 rel dist 0.3189499028889239 for n_states 500\n",
      "Time taken: 12.663156509399414\n",
      "dest [8.30186378 0.3392261  6.41532789]\n",
      "Avg new dist 3.50391528505161 rel dist 0.5537736843930675 for n_states 500\n",
      "Time taken: 18.762961626052856\n",
      "time taken 15.73233242034912\n"
     ]
    }
   ],
   "source": [
    "import matplotlib\n",
    "%matplotlib inline\n",
    "import numpy as np\n",
    "import time\n",
    "\n",
    "from evaluation import Evaluation\n",
    "\n",
    "evalObject = Evaluation(dynamics='Steam')\n",
    "dataObject = evalObject.setDataObject()\n",
    "evalObject.setNStates(500)\n",
    "\n",
    "time_taken = 0.0\n",
    "for idx in range(10):\n",
    "    start = time.time()\n",
    "    ref_traj = dataObject.generateTrajectories(samples=1)[0]\n",
    "    time_step = 131\n",
    "\n",
    "    dest = ref_traj[time_step]\n",
    "    dests = [dest]\n",
    "    evalObject.reachDest(dests=dests, d_time_steps=[time_step], threshold=0.01, eval_first_step=True)\n",
    "    time_taken += time.time() - start\n",
    "print(\"time taken {}\".format(time_taken/10))"
   ]
  },
  {
   "cell_type": "code",
   "execution_count": 1,
   "metadata": {},
   "outputs": [
    {
     "name": "stderr",
     "output_type": "stream",
     "text": [
      "Using TensorFlow backend.\n"
     ]
    },
    {
     "name": "stdout",
     "output_type": "stream",
     "text": [
      "dest [4.37460019e+00 2.01689231e-06 8.66987151e+00]\n",
      "WARNING:tensorflow:From /usr/local/lib/python3.6/dist-packages/keras/backend/tensorflow_backend.py:422: The name tf.global_variables is deprecated. Please use tf.compat.v1.global_variables instead.\n",
      "\n",
      "Avg new dist 0.5996556167857575 rel dist 0.20101002440363694 for n_states 500\n",
      "Time taken: 8.413975238800049\n",
      "dest [8.09409324e+00 2.03585007e-06 1.58970149e+01]\n",
      "Avg new dist 1.3349323267798476 rel dist 0.26041370428468913 for n_states 500\n",
      "Time taken: 8.700231552124023\n",
      "dest [7.78884559e+00 7.14737379e-06 4.33755513e+00]\n",
      "Avg new dist 1.1961699240714996 rel dist 0.23419782211288456 for n_states 500\n",
      "Time taken: 8.209949970245361\n",
      "dest [8.42936074e+00 6.39165037e-06 5.25605778e+00]\n",
      "Avg new dist 1.010886533161508 rel dist 0.22622959329542414 for n_states 500\n",
      "Time taken: 8.682641983032227\n",
      "dest [5.53929023e+00 2.30472009e-06 9.60690447e+00]\n",
      "Avg new dist 0.6186302902295957 rel dist 0.20821415421365438 for n_states 500\n",
      "Time taken: 8.946552991867065\n",
      "dest [4.39605672e+00 2.42015990e-06 7.25846891e+00]\n"
     ]
    },
    {
     "name": "stderr",
     "output_type": "stream",
     "text": [
      "/usr/local/lib/python3.6/dist-packages/scipy/integrate/odepack.py:247: ODEintWarning: Excess work done on this call (perhaps wrong Dfun type). Run with full_output = 1 to get quantitative information.\n",
      "  warnings.warn(warning_msg, ODEintWarning)\n"
     ]
    },
    {
     "name": "stdout",
     "output_type": "stream",
     "text": [
      "Avg new dist 0.7175164481060915 rel dist 0.2131118408641074 for n_states 500\n",
      "Time taken: 8.469399213790894\n",
      "dest [1.35641232e+00 9.79009869e-07 5.53903906e+00]\n",
      "Avg new dist 1.2873231760428543 rel dist 0.25562677729754874 for n_states 500\n",
      "Time taken: 8.778931379318237\n",
      "dest [5.87680183e+00 5.42423269e-06 4.31746607e+00]\n",
      "Avg new dist 0.6389667011679907 rel dist 0.14642542483859744 for n_states 500\n",
      "Time taken: 8.642005920410156\n",
      "dest [5.92877712e+00 2.92120543e-06 8.10949751e+00]\n",
      "Avg new dist 0.5851769318140062 rel dist 0.17851188275868396 for n_states 500\n",
      "Time taken: 9.03162956237793\n",
      "dest [8.51495730e+00 5.22474349e-06 6.50327342e+00]\n",
      "Avg new dist 0.7034979358791527 rel dist 0.177860574564975 for n_states 500\n",
      "Time taken: 9.430747747421265\n",
      "time taken 8.733297872543336\n"
     ]
    }
   ],
   "source": [
    "import matplotlib\n",
    "%matplotlib inline\n",
    "import numpy as np\n",
    "import time\n",
    "\n",
    "from evaluation import Evaluation\n",
    "\n",
    "evalObject = Evaluation(dynamics='Rober')\n",
    "dataObject = evalObject.setDataObject()\n",
    "evalObject.setNStates(500)\n",
    "\n",
    "time_taken = 0.0\n",
    "for idx in range(10):\n",
    "    start = time.time()\n",
    "    ref_traj = dataObject.generateTrajectories(samples=1)[0]\n",
    "    time_step = 131\n",
    "\n",
    "    dest = ref_traj[time_step]\n",
    "    dests = [dest]\n",
    "    evalObject.reachDest(dests=dests, d_time_steps=[time_step], threshold=0.01, eval_first_step=True)\n",
    "    time_taken += time.time() - start\n",
    "print(\"time taken {}\".format(time_taken/10))"
   ]
  },
  {
   "cell_type": "code",
   "execution_count": 1,
   "metadata": {},
   "outputs": [
    {
     "name": "stderr",
     "output_type": "stream",
     "text": [
      "Using TensorFlow backend.\n"
     ]
    },
    {
     "name": "stdout",
     "output_type": "stream",
     "text": [
      "dest [ 3.95829596 -0.13991353  5.85704122 -0.23259497]\n",
      "WARNING:tensorflow:From /usr/local/lib/python3.6/dist-packages/keras/backend/tensorflow_backend.py:422: The name tf.global_variables is deprecated. Please use tf.compat.v1.global_variables instead.\n",
      "\n",
      "Avg new dist 0.8428509748824888 rel dist 0.38080793265843627 for n_states 500\n",
      "Time taken: 8.72760796546936\n",
      "dest [ 3.08940471 -0.37272212  2.94219502 -0.35702774]\n",
      "Avg new dist 0.7125708014163662 rel dist 0.35609794887436663 for n_states 500\n",
      "Time taken: 8.327479839324951\n",
      "dest [ 8.13178238 -0.13652302  7.37001969 -0.12390192]\n",
      "Avg new dist 1.0841501685937125 rel dist 0.37965124070222867 for n_states 500\n",
      "Time taken: 6.85342001914978\n",
      "dest [ 7.36515002 -0.17676387  5.31418479 -0.11967222]\n",
      "Avg new dist 1.0188373914230995 rel dist 0.3890060249741791 for n_states 500\n",
      "Time taken: 7.97372841835022\n",
      "dest [ 3.49549597 -0.07064461  6.18670343 -0.23795958]\n",
      "Avg new dist 0.8294390889093076 rel dist 0.3795381896144946 for n_states 500\n",
      "Time taken: 9.171623706817627\n",
      "dest [ 5.43690951 -0.28525366  2.71651635  0.0117628 ]\n",
      "Avg new dist 0.6847969734568626 rel dist 0.28335745990644934 for n_states 500\n",
      "Time taken: 9.362179279327393\n",
      "dest [ 3.54359321 -0.11297343  5.77194625 -0.24726038]\n",
      "Avg new dist 0.9369393180687675 rel dist 0.3861901955497022 for n_states 500\n",
      "Time taken: 9.369654417037964\n",
      "dest [ 3.40069028 -0.04917186  6.2650612  -0.23847786]\n",
      "Avg new dist 0.8318519569325605 rel dist 0.35239781357932604 for n_states 500\n",
      "Time taken: 9.53132438659668\n",
      "dest [ 2.54581008 -0.56022117  1.98805417  0.02524997]\n",
      "Avg new dist 0.9104900882490061 rel dist 0.33025309366451466 for n_states 500\n",
      "Time taken: 9.187652111053467\n",
      "dest [ 3.39815861  0.29364882  9.75312616 -0.17114535]\n",
      "Avg new dist 1.4870941353274596 rel dist 0.37722193060549153 for n_states 500\n",
      "Time taken: 8.7086181640625\n",
      "time taken 8.724166107177734\n"
     ]
    }
   ],
   "source": [
    "import matplotlib\n",
    "%matplotlib inline\n",
    "import numpy as np\n",
    "import time\n",
    "\n",
    "from evaluation import Evaluation\n",
    "\n",
    "evalObject = Evaluation(dynamics='CoupledVanderpol')\n",
    "dataObject = evalObject.setDataObject()\n",
    "evalObject.setNStates(500)\n",
    "\n",
    "time_taken = 0.0\n",
    "for idx in range(10):\n",
    "    start = time.time()\n",
    "    ref_traj = dataObject.generateTrajectories(samples=1)[0]\n",
    "    time_step = 131\n",
    "\n",
    "    dest = ref_traj[time_step]\n",
    "    dests = [dest]\n",
    "    evalObject.reachDest(dests=dests, d_time_steps=[time_step], threshold=0.01, eval_first_step=True)\n",
    "    time_taken += time.time() - start\n",
    "print(\"time taken {}\".format(time_taken/10))"
   ]
  },
  {
   "cell_type": "code",
   "execution_count": 1,
   "metadata": {},
   "outputs": [
    {
     "name": "stderr",
     "output_type": "stream",
     "text": [
      "Using TensorFlow backend.\n"
     ]
    },
    {
     "name": "stdout",
     "output_type": "stream",
     "text": [
      "dest [0.89043821 0.43929234 0.52673229 2.66966265 0.24594257 0.08819819\n",
      " 0.25434983]\n",
      "WARNING:tensorflow:From /usr/local/lib/python3.6/dist-packages/keras/backend/tensorflow_backend.py:422: The name tf.global_variables is deprecated. Please use tf.compat.v1.global_variables instead.\n",
      "\n",
      "Avg new dist 0.0052321708929401745 rel dist 0.40939021459296554 for n_states 500\n",
      "Time taken: 7.600828170776367\n",
      "dest [0.89234359 0.43918214 0.52874006 2.66485146 0.24658795 0.0883366\n",
      " 0.25514642]\n",
      "Avg new dist 0.005501950447358673 rel dist 0.40893999079654475 for n_states 500\n",
      "Time taken: 8.015142679214478\n",
      "dest [0.87900619 0.43742343 0.51654245 2.69948114 0.24145266 0.08728102\n",
      " 0.25054008]\n",
      "Avg new dist 0.0038931352835319113 rel dist 0.20418320266403253 for n_states 500\n",
      "Time taken: 8.280676364898682\n",
      "dest [0.89319077 0.44909513 0.5223848  2.66084661 0.2492878  0.08873829\n",
      " 0.25180509]\n",
      "Avg new dist 0.005452098654907911 rel dist 0.4310280915415621 for n_states 500\n",
      "Time taken: 8.108654975891113\n",
      "dest [0.88482993 0.43388397 0.52501166 2.68517003 0.242659   0.08759428\n",
      " 0.25415336]\n",
      "Avg new dist 0.005072415608071318 rel dist 0.29618610444507953 for n_states 500\n",
      "Time taken: 8.564306259155273\n",
      "dest [0.88564979 0.43707443 0.52350916 2.68236374 0.24371702 0.08776489\n",
      " 0.2532839 ]\n",
      "Avg new dist 0.004468197302914498 rel dist 0.2888232532025112 for n_states 500\n",
      "Time taken: 8.171117067337036\n",
      "dest [0.88816444 0.44819946 0.51796842 2.67388225 0.24727247 0.08833258\n",
      " 0.25017121]\n",
      "Avg new dist 0.002721539099702898 rel dist 0.2012071864857483 for n_states 500\n",
      "Time taken: 8.723745822906494\n",
      "dest [0.91350974 0.45552602 0.53820985 2.60900685 0.2581336  0.09047383\n",
      " 0.2574254 ]\n",
      "Avg new dist 0.02440357398364752 rel dist 0.48611319993807545 for n_states 500\n",
      "Time taken: 8.803104639053345\n",
      "dest [0.9093993  0.45154824 0.53695556 2.61980181 0.25567685 0.09003171\n",
      " 0.25728018]\n",
      "Avg new dist 0.013217553731633138 rel dist 0.36363405918014113 for n_states 500\n",
      "Time taken: 8.86040997505188\n",
      "dest [0.88709653 0.44509729 0.51913747 2.67712417 0.24615232 0.08814709\n",
      " 0.25088792]\n",
      "Avg new dist 0.0038678404926644665 rel dist 0.2955621221312122 for n_states 500\n",
      "Time taken: 8.754063367843628\n",
      "time taken 8.39064688682556\n"
     ]
    }
   ],
   "source": [
    "import matplotlib\n",
    "%matplotlib inline\n",
    "import numpy as np\n",
    "import time\n",
    "\n",
    "from evaluation import Evaluation\n",
    "\n",
    "evalObject = Evaluation(dynamics='LaubLoomis')\n",
    "dataObject = evalObject.setDataObject()\n",
    "evalObject.setNStates(500)\n",
    "\n",
    "time_taken = 0.0\n",
    "for idx in range(10):\n",
    "    start = time.time()\n",
    "    ref_traj = dataObject.generateTrajectories(samples=1)[0]\n",
    "    time_step = 131\n",
    "\n",
    "    dest = ref_traj[time_step]\n",
    "    dests = [dest]\n",
    "    evalObject.reachDest(dests=dests, d_time_steps=[time_step], threshold=0.01, eval_first_step=True)\n",
    "    time_taken += time.time() - start\n",
    "print(\"time taken {}\".format(time_taken/10))"
   ]
  },
  {
   "cell_type": "code",
   "execution_count": 1,
   "metadata": {},
   "outputs": [
    {
     "name": "stderr",
     "output_type": "stream",
     "text": [
      "Using TensorFlow backend.\n"
     ]
    },
    {
     "name": "stdout",
     "output_type": "stream",
     "text": [
      "dest [-0.10663574  0.05594721]\n",
      "WARNING:tensorflow:From /usr/local/lib/python3.6/dist-packages/keras/backend/tensorflow_backend.py:422: The name tf.global_variables is deprecated. Please use tf.compat.v1.global_variables instead.\n",
      "\n",
      "Avg new dist 0.004693160500710482 rel dist 0.0971695352569906 for n_states 500\n",
      "Time taken: 73.63450980186462\n",
      "dest [-0.00137204  0.05062561]\n",
      "Avg new dist 0.006033915447829047 rel dist 0.20354556488683095 for n_states 500\n",
      "Time taken: 74.13531279563904\n",
      "dest [0.04494762 0.04509297]\n",
      "Avg new dist 0.0008298256658238238 rel dist 0.16095976352053895 for n_states 500\n",
      "Time taken: 66.57303714752197\n",
      "dest [-0.24798106  0.05964635]\n",
      "Avg new dist 0.024125611273155288 rel dist 0.21427283625511448 for n_states 500\n",
      "Time taken: 71.32480883598328\n",
      "dest [-0.3365558   0.06056506]\n",
      "Avg new dist 0.019241113456383296 rel dist 0.15637371301162564 for n_states 500\n",
      "Time taken: 68.97216653823853\n",
      "dest [-0.22208202  0.05918025]\n",
      "Avg new dist 0.01982455136541397 rel dist 0.21633806467812272 for n_states 500\n",
      "Time taken: 67.84090614318848\n",
      "dest [-0.10828546  0.05600816]\n",
      "Avg new dist 0.0039807421652830076 rel dist 0.07825829619300806 for n_states 500\n",
      "Time taken: 72.51069617271423\n",
      "dest [-0.02502084  0.05216142]\n",
      "Avg new dist 0.007193926003433123 rel dist 0.18738110246482387 for n_states 500\n",
      "Time taken: 71.43332314491272\n",
      "dest [0.04343175 0.04554195]\n",
      "Avg new dist 0.0010359939215631557 rel dist 0.15092436247971103 for n_states 500\n",
      "Time taken: 63.413403034210205\n",
      "dest [0.04538948 0.04232533]\n",
      "Avg new dist 0.0017466550349813737 rel dist 0.19677995918490565 for n_states 500\n",
      "Time taken: 64.4434745311737\n",
      "time taken 69.45217680931091\n"
     ]
    }
   ],
   "source": [
    "import matplotlib\n",
    "%matplotlib inline\n",
    "import numpy as np\n",
    "import time\n",
    "\n",
    "from evaluation import Evaluation\n",
    "\n",
    "evalObject = Evaluation(dynamics='MC')\n",
    "dataObject = evalObject.setDataObject()\n",
    "evalObject.setNStates(500)\n",
    "\n",
    "time_taken = 0.0\n",
    "for idx in range(10):\n",
    "    start = time.time()\n",
    "    ref_traj = dataObject.generateTrajectories(samples=1)[0]\n",
    "    time_step = 81\n",
    "\n",
    "    dest = ref_traj[time_step]\n",
    "    dests = [dest]\n",
    "    evalObject.reachDest(dests=dests, d_time_steps=[time_step], threshold=0.01, eval_first_step=True)\n",
    "    time_taken += time.time() - start\n",
    "print(\"time taken {}\".format(time_taken/10))"
   ]
  },
  {
   "cell_type": "code",
   "execution_count": 1,
   "metadata": {},
   "outputs": [
    {
     "name": "stderr",
     "output_type": "stream",
     "text": [
      "Using TensorFlow backend.\n"
     ]
    },
    {
     "name": "stdout",
     "output_type": "stream",
     "text": [
      "dest [ 0.01287505  0.08758697  0.648       0.79726934 -0.79726934  1.62      ]\n",
      "WARNING:tensorflow:From /usr/local/lib/python3.6/dist-packages/keras/backend/tensorflow_backend.py:422: The name tf.global_variables is deprecated. Please use tf.compat.v1.global_variables instead.\n",
      "\n",
      "Avg new dist 0.017439911835555214 rel dist 0.13588561292448037 for n_states 500\n",
      "Time taken: 144.51047587394714\n",
      "dest [ 0.11389711  0.08943976  0.648       0.79726934 -0.79726934  1.62      ]\n",
      "Avg new dist 0.021020573372077727 rel dist 0.15008652064555708 for n_states 500\n",
      "Time taken: 146.47466230392456\n",
      "dest [ 0.09997622  0.17999715  0.648       0.79726934 -0.79726934  1.62      ]\n",
      "Avg new dist 0.013441638798505136 rel dist 0.1439956103889161 for n_states 500\n",
      "Time taken: 150.38319659233093\n",
      "dest [ 0.26838579 -0.36163919 -0.4368      0.79726934 -0.79726934 -0.3       ]\n",
      "Avg new dist 0.4272288872538168 rel dist 0.28211092804968846 for n_states 500\n",
      "Time taken: 147.3633553981781\n",
      "dest [ 0.01067972  0.1506154   0.648       0.79726934 -0.79726934  1.62      ]\n",
      "Avg new dist 0.3060008210631344 rel dist 0.7843962296864322 for n_states 500\n",
      "Time taken: 135.5688054561615\n",
      "dest [-0.18477745 -0.04844132  0.648       0.60041271 -0.24607078  1.62      ]\n",
      "Avg new dist 0.020479814831936474 rel dist 0.1114793696424428 for n_states 500\n",
      "Time taken: 136.2217538356781\n",
      "dest [-0.07093137 -0.18497452  0.648       0.6594697  -0.36418476  1.62      ]\n",
      "Avg new dist 0.03871558696562541 rel dist 0.13380489563564113 for n_states 500\n",
      "Time taken: 139.36083388328552\n",
      "dest [-0.06891981 -0.2023583   0.648       0.6594697  -0.3444991   1.62      ]\n",
      "Avg new dist 0.039432048462007194 rel dist 0.10329844218988121 for n_states 500\n",
      "Time taken: 137.21455430984497\n",
      "dest [ 0.15368567 -0.29611816  0.648       0.79726934 -0.79726934  1.62      ]\n",
      "Avg new dist 0.07948659110760967 rel dist 0.1524650712959847 for n_states 500\n",
      "Time taken: 144.02721643447876\n",
      "dest [ 0.04189238  0.20655588 -0.6116      0.79726934 -0.79726934 -1.06      ]\n",
      "Avg new dist 0.018348095326805224 rel dist 0.06278842664970911 for n_states 500\n",
      "Time taken: 143.26390528678894\n",
      "time taken 142.4862672805786\n"
     ]
    }
   ],
   "source": [
    "import matplotlib\n",
    "%matplotlib inline\n",
    "import numpy as np\n",
    "import time\n",
    "\n",
    "from evaluation import Evaluation\n",
    "\n",
    "evalObject = Evaluation(dynamics='Quadrotor')\n",
    "dataObject = evalObject.setDataObject()\n",
    "evalObject.setNStates(500)\n",
    "\n",
    "time_taken = 0.0\n",
    "for idx in range(10):\n",
    "    start = time.time()\n",
    "    ref_traj = dataObject.generateTrajectories(samples=1)[0]\n",
    "    time_step = 81\n",
    "\n",
    "    dest = ref_traj[time_step]\n",
    "    dests = [dest]\n",
    "    evalObject.reachDest(dests=dests, d_time_steps=[time_step], threshold=0.01, eval_first_step=True)\n",
    "    time_taken += time.time() - start\n",
    "print(\"time taken {}\".format(time_taken/10))"
   ]
  },
  {
   "cell_type": "code",
   "execution_count": 5,
   "metadata": {},
   "outputs": [
    {
     "name": "stdout",
     "output_type": "stream",
     "text": [
      "dest [3.98422352 1.5831738  0.17542259 1.8035239  0.06891382 4.59415257\n",
      " 3.38501988]\n",
      "pred init state [1.70126563 3.1981959  0.50515861 1.212077   0.98165357 5.099999\n",
      " 3.4516082 ], pred dest state [3.74872285 1.51372063 0.14217666 2.13198058 0.06174999 4.92336194\n",
      " 3.62824527] distance 0.5803982292148371\n",
      "pred init state [1.53254895 3.44248284 0.73541097 1.40463041 0.53427586 5.099999\n",
      " 3.18636029], pred dest state [3.94608289 1.59358249 0.17077739 1.86907373 0.06983253 4.58449838\n",
      " 3.70186091] distance 0.32613446938241775\n",
      "pred init state [1.22547304 3.02168112 1.04723627 1.08039631 0.83072682 5.099999\n",
      " 2.83700519], pred dest state [3.65843531 1.47569856 0.16025657 1.84423181 0.06689132 4.43300969\n",
      " 3.5039945 ] distance 0.39962745793411675\n",
      "pred init state [1.85550417 3.34419158 0.34892926 1.53072006 0.5674283  5.099999\n",
      " 3.48818638], pred dest state [3.84337286 1.55250519 0.15274697 2.03547701 0.06267135 4.97367317\n",
      " 3.61451222] distance 0.5213803641001051\n",
      "pred init state [1.46586411 3.38285826 0.2083112  1.12170492 1.0944772  4.94792855\n",
      " 3.16212186], pred dest state [3.50594694 1.41918408 0.13190254 2.1550864  0.06109572 4.66860422\n",
      " 3.4414462 ] distance 0.6244352653381189\n"
     ]
    },
    {
     "data": {
      "image/png": "[encoded data removed]",
      "text/plain": [
       "<Figure size 432x288 with 1 Axes>"
      ]
     },
     "metadata": {
      "needs_background": "light"
     },
     "output_type": "display_data"
    },
    {
     "data": {
      "image/png": "[encoded data removed]",
      "text/plain": [
       "<Figure size 432x288 with 1 Axes>"
      ]
     },
     "metadata": {
      "needs_background": "light"
     },
     "output_type": "display_data"
    },
    {
     "data": {
      "image/png": "[encoded data removed]",
      "text/plain": [
       "<Figure size 432x288 with 1 Axes>"
      ]
     },
     "metadata": {
      "needs_background": "light"
     },
     "output_type": "display_data"
    },
    {
     "name": "stdout",
     "output_type": "stream",
     "text": [
      "Avg Relative distance 0.09471385069410006 for n_states 5\n"
     ]
    }
   ],
   "source": [
    "import matplotlib\n",
    "%matplotlib inline\n",
    "import numpy as np\n",
    "\n",
    "from evaluation import Evaluation\n",
    "\n",
    "evalObject = Evaluation(dynamics='BiologicalModel1')\n",
    "dataObject = evalObject.setDataObject()\n",
    "evalObject.setIterCount(10)\n",
    "evalObject.setNStates(5)\n",
    "\n",
    "ref_traj = dataObject.generateTrajectories(samples=1)\n",
    "ref_traj = ref_traj[0]\n",
    "time_step = 71\n",
    "\n",
    "dest = ref_traj[time_step]\n",
    "dests = [dest]\n",
    "evalObject.reachDest(dests=dests, d_time_steps=[time_step], threshold=0.1)"
   ]
  },
  {
   "cell_type": "code",
   "execution_count": 1,
   "metadata": {},
   "outputs": [
    {
     "name": "stderr",
     "output_type": "stream",
     "text": [
      "Using TensorFlow backend.\n"
     ]
    },
    {
     "name": "stdout",
     "output_type": "stream",
     "text": [
      "dest [ 1.18151775 -0.1963421   0.31939073  1.27941425 -0.37789234  0.05791934\n",
      "  0.94517303 -0.63075756 -0.02969418]\n",
      "WARNING:tensorflow:From /usr/local/lib/python3.6/dist-packages/keras/backend/tensorflow_backend.py:422: The name tf.global_variables is deprecated. Please use tf.compat.v1.global_variables instead.\n",
      "\n",
      "Avg new dist 0.0443760479660381 rel dist 0.44237216865746665 for n_states 500\n",
      "Time taken: 7.227222204208374\n",
      "dest [ 1.28227721 -0.25435462  0.28672036  1.27061204 -0.35649912  0.08486509\n",
      "  0.95259046 -0.61147052 -0.03191797]\n",
      "Avg new dist 0.023954881440264298 rel dist 0.24525511087923815 for n_states 500\n",
      "Time taken: 7.30821418762207\n",
      "dest [ 1.30458635 -0.26341702  0.28395367  1.29095888 -0.34654434  0.10621327\n",
      "  1.02072181 -0.64957781 -0.01722919]\n",
      "Avg new dist 0.02107593913156755 rel dist 0.23015426825874316 for n_states 500\n",
      "Time taken: 7.04761004447937\n",
      "dest [ 1.21520956 -0.2091365   0.31787162  1.29986294 -0.38413458  0.06090157\n",
      "  0.94751275 -0.62443703 -0.02889964]\n",
      "Avg new dist 0.018218326073424516 rel dist 0.21192618311316958 for n_states 500\n",
      "Time taken: 6.9070494174957275\n",
      "dest [ 1.28868967 -0.24295561  0.30658028  1.33665082 -0.38797131  0.07768056\n",
      "  0.97891533 -0.61094364 -0.00817696]\n",
      "Avg new dist 0.02272242437190417 rel dist 0.2780352617977456 for n_states 500\n",
      "Time taken: 6.928416967391968\n",
      "dest [ 1.26964638 -0.23274376  0.31098315  1.30411497 -0.35130524  0.09742692\n",
      "  1.05006795 -0.70841525 -0.03579425]\n",
      "Avg new dist 0.022183924637588438 rel dist 0.2502239515747162 for n_states 500\n",
      "Time taken: 6.946827173233032\n",
      "dest [ 1.27267028 -0.22794305  0.32228009  1.30776545 -0.36672805  0.07914501\n",
      "  1.01285991 -0.68348807 -0.04080599]\n",
      "Avg new dist 0.020510642884119388 rel dist 0.29187580376157074 for n_states 500\n",
      "Time taken: 7.2538957595825195\n",
      "dest [ 1.27550894 -0.22451587  0.32914962  1.32587998 -0.38549819  0.06644946\n",
      "  0.96514004 -0.65580929 -0.04986192]\n",
      "Avg new dist 0.028166700414543205 rel dist 0.3725964844863514 for n_states 500\n",
      "Time taken: 7.341281414031982\n",
      "dest [ 1.28482103 -0.24825111  0.29747795  1.29900282 -0.36595082  0.08658151\n",
      "  0.96957086 -0.62359295 -0.02524658]\n",
      "Avg new dist 0.01494339224889603 rel dist 0.1981763156166324 for n_states 500\n",
      "Time taken: 8.001321077346802\n",
      "dest [ 1.25593175 -0.21863053  0.32753295  1.30274446 -0.3731222   0.06592723\n",
      "  1.03035939 -0.68167084 -0.02948011]\n",
      "Avg new dist 0.018939820471999498 rel dist 0.25922937913120897 for n_states 500\n",
      "Time taken: 7.97476863861084\n",
      "time taken 7.294659304618835\n"
     ]
    }
   ],
   "source": [
    "import matplotlib\n",
    "%matplotlib inline\n",
    "import numpy as np\n",
    "import time\n",
    "\n",
    "from evaluation import Evaluation\n",
    "\n",
    "evalObject = Evaluation(dynamics='VehiclePlatoon')\n",
    "dataObject = evalObject.setDataObject()\n",
    "evalObject.setNStates(500)\n",
    "\n",
    "time_taken = 0.0\n",
    "for idx in range(10):\n",
    "    start = time.time()\n",
    "    ref_traj = dataObject.generateTrajectories(samples=1)[0]\n",
    "    time_step = 131\n",
    "\n",
    "    dest = ref_traj[time_step]\n",
    "    dests = [dest]\n",
    "    evalObject.reachDest(dests=dests, d_time_steps=[time_step], threshold=0.01, eval_first_step=True)\n",
    "    time_taken += time.time() - start\n",
    "print(\"time taken {}\".format(time_taken/10))"
   ]
  },
  {
   "cell_type": "code",
   "execution_count": 20,
   "metadata": {},
   "outputs": [
    {
     "name": "stdout",
     "output_type": "stream",
     "text": [
      "dest [-63.23700742  21.33600432]\n",
      "pred init state [-6.36498943e+01 -5.59957183e-02], pred dest state [-63.25415014  21.35870765] distance 0.02844844595611912\n",
      "pred init state [-6.36399161e+01 -5.55608455e-02], pred dest state [-63.25450417  21.3591766 ] distance 0.029036028698631474\n",
      "pred init state [-6.36467625e+01 -5.67431474e-02], pred dest state [-63.25373249  21.35815443] distance 0.027755279067539815\n",
      "pred init state [-6.36504443e+01 -5.61203171e-02], pred dest state [-63.25407043  21.35860207] distance 0.028316158816286154\n",
      "pred init state [-6.36422734e+01 -5.53147473e-02], pred dest state [-63.25462919  21.3593422 ] distance 0.029243527237996666\n"
     ]
    },
    {
     "data": {
      "image/png": "[encoded data removed]",
      "text/plain": [
       "<Figure size 432x288 with 1 Axes>"
      ]
     },
     "metadata": {
      "needs_background": "light"
     },
     "output_type": "display_data"
    },
    {
     "name": "stdout",
     "output_type": "stream",
     "text": [
      "Avg Relative distance 0.1828701060797975 for n_states 5\n"
     ]
    }
   ],
   "source": [
    "import matplotlib\n",
    "%matplotlib inline\n",
    "import numpy as np\n",
    "\n",
    "from evaluation import Evaluation\n",
    "\n",
    "evalObject = Evaluation(dynamics='SpikingNeuron')\n",
    "dataObject = evalObject.setDataObject()\n",
    "#dataObject.setLowerBound([-65, -0.2])\n",
    "#dataObject.setUpperBound([-60, 0.2])\n",
    "evalObject.setIterCount(10)\n",
    "evalObject.setNStates(5)\n",
    "\n",
    "ref_traj = dataObject.generateTrajectories(samples=1)[0]\n",
    "time_step = 337\n",
    "\n",
    "dest = ref_traj[time_step]\n",
    "dests = [dest]\n",
    "evalObject.reachDest(dests=dests, d_time_steps=[time_step], threshold=0.001)"
   ]
  }
 ],
 "metadata": {
  "kernelspec": {
   "display_name": "Python 3",
   "language": "python",
   "name": "python3"
  },
  "language_info": {
   "codemirror_mode": {
    "name": "ipython",
    "version": 3
   },
   "file_extension": ".py",
   "mimetype": "text/x-python",
   "name": "python",
   "nbconvert_exporter": "python",
   "pygments_lexer": "ipython3",
   "version": "3.6.9"
  }
 },
 "nbformat": 4,
 "nbformat_minor": 2
}
